{
 "cells": [
  {
   "cell_type": "markdown",
   "metadata": {},
   "source": [
    "# Testing Image sizes"
   ]
  },
  {
   "cell_type": "code",
   "execution_count": null,
   "metadata": {},
   "outputs": [],
   "source": [
    "import torch\n",
    "\n",
    "C, H, W = 3, 224, 224\n",
    "B = 32\n",
    "x = torch.randn(B, H * W, C)\n",
    "print(x.shape)\n",
    "\n",
    "S = 16 # patch_size\n",
    "Ns = int((H * W) / (S * S)) # num_of_patches\n",
    "\n",
    "x = x.view(B, Ns, S*S*C)\n",
    "x.shape"
   ]
  },
  {
   "cell_type": "markdown",
   "metadata": {},
   "source": [
    "# Testing MetaTransformer"
   ]
  },
  {
   "cell_type": "code",
   "execution_count": null,
   "metadata": {},
   "outputs": [],
   "source": [
    "from metatransformer import MetaTransformer\n",
    "\n",
    "model = MetaTransformer(\n",
    "    chkpt_path = '/home/vimukthi/Myprojects/Experiments/MetaTransformer/Custom/model_checkpoints/Meta-Transformer_base_patch16_encoder.pth',\n",
    "    image_size = 224,\n",
    "    patch_size = 16,\n",
    "    num_classes = 2,\n",
    "    dim = 768,\n",
    "    depth = 12,\n",
    "    heads = 12,\n",
    "    mlp_dim = 1024,\n",
    "    dropout = 0.1,\n",
    "    emb_dropout = 0.1,\n",
    "    mode = 'ViT'\n",
    ")\n",
    "model = model.cuda()"
   ]
  },
  {
   "cell_type": "code",
   "execution_count": null,
   "metadata": {},
   "outputs": [],
   "source": [
    "model"
   ]
  },
  {
   "cell_type": "code",
   "execution_count": null,
   "metadata": {},
   "outputs": [],
   "source": [
    "model(x.to('cuda')).shape"
   ]
  }
 ],
 "metadata": {
  "kernelspec": {
   "display_name": "HPRNet",
   "language": "python",
   "name": "python3"
  },
  "language_info": {
   "codemirror_mode": {
    "name": "ipython",
    "version": 3
   },
   "file_extension": ".py",
   "mimetype": "text/x-python",
   "name": "python",
   "nbconvert_exporter": "python",
   "pygments_lexer": "ipython3",
   "version": "3.9.0"
  }
 },
 "nbformat": 4,
 "nbformat_minor": 2
}
